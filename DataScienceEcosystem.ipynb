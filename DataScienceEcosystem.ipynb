{
 "cells": [
  {
   "cell_type": "markdown",
   "id": "d9812d87",
   "metadata": {},
   "source": [
    "# Data Science Tools and Ecosystem"
   ]
  },
  {
   "cell_type": "markdown",
   "id": "6da3836f",
   "metadata": {},
   "source": [
    "In this notebook, Data Science Tools and Ecosystem are summarized."
   ]
  },
  {
   "cell_type": "markdown",
   "id": "1e9d504d",
   "metadata": {},
   "source": [
    "Some of the popular languages that Data Scientists use are:\n",
    "<ol>\n",
    "<li>SQL</li>\n",
    "<li>Python</li>\n",
    "<li>R</li>\n",
    "<li>PYSpark</li>\n",
    "<li>Scala</li>\n",
    "</ol>"
   ]
  },
  {
   "cell_type": "markdown",
   "id": "c21aafab",
   "metadata": {},
   "source": [
    "Some of the commonly used libraries used by Data Scientists include:\n",
    "<ol>\n",
    "<li>PANDAS</li>\n",
    "<li>NUMPY</li>\n",
    "<li>MATPLOTLIB</li>\n",
    "<li>SEABORN</li>\n",
    "<li>SCIKIT-LEARN</li>\n",
    "<li>KERAS</li>\n",
    "<li>TENSOR FLOW</li>\n",
    "</ol>"
   ]
  },
  {
   "cell_type": "markdown",
   "id": "40d025ea",
   "metadata": {},
   "source": [
    "|Data Science Tools|\n",
    "---------------------------\n",
    "Jupyter\n",
    "Apache Zeppelin\n",
    "Spyder"
   ]
  },
  {
   "cell_type": "markdown",
   "id": "160f99b2",
   "metadata": {},
   "source": [
    "### Below are a few examples of evaluating arithmetic expressions in Python"
   ]
  },
  {
   "cell_type": "code",
   "execution_count": 12,
   "id": "cd1a16bf",
   "metadata": {},
   "outputs": [],
   "source": [
    "#This a simple arithmetic expression to mutiply then add integers\n",
    "\n",
    "a = 3\n",
    "b = 4\n",
    "c = 5\n"
   ]
  },
  {
   "cell_type": "code",
   "execution_count": 13,
   "id": "4955f593",
   "metadata": {},
   "outputs": [
    {
     "name": "stdout",
     "output_type": "stream",
     "text": [
      "17\n"
     ]
    }
   ],
   "source": [
    "print((a * b) + c)"
   ]
  },
  {
   "cell_type": "code",
   "execution_count": 19,
   "id": "f9c778a4",
   "metadata": {},
   "outputs": [
    {
     "name": "stdout",
     "output_type": "stream",
     "text": [
      "3.33\n"
     ]
    }
   ],
   "source": [
    "# This will convert 200 minutes to hours by diving by 60\n",
    "mins = 200\n",
    "conv_hours = mins/60\n",
    "hours = round(conv_hours,2)\n",
    "print(hours)"
   ]
  },
  {
   "cell_type": "markdown",
   "id": "488fdce7",
   "metadata": {},
   "source": [
    "# Objectives:\n",
    "- List popular languages for Data Science\n",
    "- Some of the commonly used libraries used by Data Scientists\n",
    "- Data Science Tools\n",
    "- Evaluating arithmetic expressions in Python\n",
    "- Simple arithmetic expression to mutiply then add integers\n",
    "- Hours to minutes conversion"
   ]
  },
  {
   "cell_type": "markdown",
   "id": "5e6b0f95",
   "metadata": {},
   "source": [
    "## Author\n",
    "\n",
    "Logeswaran E"
   ]
  },
  {
   "cell_type": "code",
   "execution_count": null,
   "id": "4ebd71a3",
   "metadata": {},
   "outputs": [],
   "source": []
  }
 ],
 "metadata": {
  "kernelspec": {
   "display_name": "Python 3 (ipykernel)",
   "language": "python",
   "name": "python3"
  },
  "language_info": {
   "codemirror_mode": {
    "name": "ipython",
    "version": 3
   },
   "file_extension": ".py",
   "mimetype": "text/x-python",
   "name": "python",
   "nbconvert_exporter": "python",
   "pygments_lexer": "ipython3",
   "version": "3.9.7"
  }
 },
 "nbformat": 4,
 "nbformat_minor": 5
}
