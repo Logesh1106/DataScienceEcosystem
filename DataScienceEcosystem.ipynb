{
 "cells": [
  {
   "cell_type": "markdown",
   "id": "95cc12dd",
   "metadata": {},
   "source": [
    "<center>\n",
    "    <img src=\"https://cf-courses-data.s3.us.cloud-object-storage.appdomain.cloud/IBMDeveloperSkillsNetwork-DS0105EN-SkillsNetwork/labs/Module2/images/SN_web_lightmode.png\" width=\"300\" alt=\"cognitiveclass.ai logo\">\n",
    "</center>\n"
   ]
  },
  {
   "cell_type": "markdown",
   "id": "37a3d0d2",
   "metadata": {},
   "source": [
    "#### Add your code below following the instructions given in the course"
   ]
  },
  {
   "cell_type": "markdown",
   "id": "d7bc7276",
   "metadata": {},
   "source": [
    "# Data Science Tools and Ecosystem"
   ]
  },
  {
   "cell_type": "markdown",
   "id": "9e414cbe",
   "metadata": {},
   "source": [
    "In this notebook, Data Science Tools and Ecosystem are summarized."
   ]
  },
  {
   "cell_type": "markdown",
   "id": "9965f585",
   "metadata": {},
   "source": [
    "Some of the popular languages that Data Scientists use are:\n",
    "<ol>\n",
    "<li>SQL</li>\n",
    "<li>Python</li>\n",
    "<li>R</li>\n",
    "<li>PYSpark</li>\n",
    "<li>Scala</li>\n",
    "</ol>"
   ]
  },
  {
   "cell_type": "markdown",
   "id": "691f1050",
   "metadata": {},
   "source": [
    "Some of the commonly used libraries used by Data Scientists include:\n",
    "<ol>\n",
    "<li>PANDAS</li>\n",
    "<li>NUMPY</li>\n",
    "<li>MATPLOTLIB</li>\n",
    "<li>SEABORN</li>\n",
    "<li>SCIKIT-LEARN</li>\n",
    "<li>KERAS</li>\n",
    "<li>TENSOR FLOW</li>\n",
    "</ol>"
   ]
  },
  {
   "cell_type": "markdown",
   "id": "f74e9af7",
   "metadata": {},
   "source": [
    "|Data Science Tools|\n",
    "---------------------------\n",
    "Jupyter\n",
    "Apache Zeppelin\n",
    "Spyder"
   ]
  },
  {
   "cell_type": "markdown",
   "id": "2fd60a3d",
   "metadata": {},
   "source": [
    "### Below are a few examples of evaluating arithmetic expressions in Python"
   ]
  },
  {
   "cell_type": "code",
   "execution_count": 12,
   "id": "b68877e7",
   "metadata": {},
   "outputs": [],
   "source": [
    "#This a simple arithmetic expression to mutiply then add integers\n",
    "\n",
    "a = 3\n",
    "b = 4\n",
    "c = 5\n"
   ]
  },
  {
   "cell_type": "code",
   "execution_count": 13,
   "id": "8dc86c21",
   "metadata": {},
   "outputs": [
    {
     "name": "stdout",
     "output_type": "stream",
     "text": [
      "17\n"
     ]
    }
   ],
   "source": [
    "print((a * b) + c)"
   ]
  },
  {
   "cell_type": "code",
   "execution_count": 19,
   "id": "69956043",
   "metadata": {},
   "outputs": [
    {
     "name": "stdout",
     "output_type": "stream",
     "text": [
      "3.33\n"
     ]
    }
   ],
   "source": [
    "# This will convert 200 minutes to hours by diving by 60\n",
    "mins = 200\n",
    "conv_hours = mins/60\n",
    "hours = round(conv_hours,2)\n",
    "print(hours)"
   ]
  },
  {
   "cell_type": "markdown",
   "id": "ad4b8a62",
   "metadata": {},
   "source": [
    "# Objectives:\n",
    "- List popular languages for Data Science\n",
    "- Some of the commonly used libraries used by Data Scientists\n",
    "- Data Science Tools\n",
    "- Evaluating arithmetic expressions in Python\n",
    "- Simple arithmetic expression to mutiply then add integers\n",
    "- Hours to minutes conversion"
   ]
  },
  {
   "cell_type": "markdown",
   "id": "eef86ed3",
   "metadata": {},
   "source": [
    "## Author\n",
    "\n",
    "Logeswaran E"
   ]
  },
  {
   "cell_type": "code",
   "execution_count": null,
   "id": "15471364",
   "metadata": {},
   "outputs": [],
   "source": []
  }
 ],
 "metadata": {
  "kernelspec": {
   "display_name": "Python 3 (ipykernel)",
   "language": "python",
   "name": "python3"
  },
  "language_info": {
   "codemirror_mode": {
    "name": "ipython",
    "version": 3
   },
   "file_extension": ".py",
   "mimetype": "text/x-python",
   "name": "python",
   "nbconvert_exporter": "python",
   "pygments_lexer": "ipython3",
   "version": "3.9.7"
  }
 },
 "nbformat": 4,
 "nbformat_minor": 5
}
